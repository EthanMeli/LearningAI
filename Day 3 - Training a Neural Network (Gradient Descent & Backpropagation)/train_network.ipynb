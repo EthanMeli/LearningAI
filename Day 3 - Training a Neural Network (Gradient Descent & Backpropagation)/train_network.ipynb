{
 "cells": [
  {
   "cell_type": "code",
   "execution_count": 1,
   "id": "9d4d52ea",
   "metadata": {},
   "outputs": [],
   "source": [
    "import numpy as np"
   ]
  },
  {
   "cell_type": "markdown",
   "id": "55f13503",
   "metadata": {},
   "source": [
    "Below is an example of a Tiny Network being trained solely using NumPy"
   ]
  },
  {
   "cell_type": "code",
   "execution_count": 7,
   "id": "d2e8c19d",
   "metadata": {},
   "outputs": [
    {
     "name": "stdout",
     "output_type": "stream",
     "text": [
      "Epoch 0, Loss: 0.2558\n",
      "Epoch 1000, Loss: 0.2498\n",
      "Epoch 2000, Loss: 0.2494\n",
      "Epoch 3000, Loss: 0.2484\n",
      "Epoch 4000, Loss: 0.2454\n",
      "Epoch 5000, Loss: 0.2342\n",
      "Epoch 6000, Loss: 0.2046\n",
      "Epoch 7000, Loss: 0.1720\n",
      "Epoch 8000, Loss: 0.1532\n",
      "Epoch 9000, Loss: 0.1438\n",
      "Predictions: [[0.124]\n",
      " [0.481]\n",
      " [0.891]\n",
      " [0.508]]\n"
     ]
    }
   ],
   "source": [
    "# --- Activation and derivative ---\n",
    "def sigmoid(z):\n",
    "    return 1 / (1 + np.exp(-z))\n",
    "\n",
    "def d_sigmoid(a):\n",
    "    return a * (1 - a) # derivative given a = sigmoid(z)\n",
    "\n",
    "# --- Data (XOR problem) ---\n",
    "X = np.array([[0, 0], [0, 1], [1, 0], [1, 1]])\n",
    "y = np.array([[0], [1], [1], [0]]) # XOR outputs\n",
    "\n",
    "# --- Initialize weights ---\n",
    "np.random.seed(42)\n",
    "W1 = np.random.randn(2, 2)\n",
    "b1 = np.zeros((1, 2))\n",
    "W2 = np.random.randn(2, 1)\n",
    "b2 = np.zeros((1, 1))\n",
    "\n",
    "# --- Training ---\n",
    "lr = 0.1\n",
    "for epoch in range(10000):\n",
    "    # Forward pass\n",
    "    z1 = X @ W1 + b1\n",
    "    a1 = sigmoid(z1)\n",
    "    z2 = a1 @ W2 + b2\n",
    "    a2 = sigmoid(z2) # predictions\n",
    "\n",
    "    # Loss (MSE)\n",
    "    loss = np.mean((a2 - y)**2)\n",
    "\n",
    "    # Backpropagation\n",
    "    d_a2 = 2 * (a2 - y) / y.shape[0] # dL/da2\n",
    "    d_z2 = d_a2 * d_sigmoid(a2) # dL/dz2\n",
    "    d_W2 = a1.T @ d_z2 # dL/dW2\n",
    "    d_b2 = np.sum(d_z2, axis=0, keepdims=True)\n",
    "\n",
    "    d_a1 = d_z2 @ W2.T # dL/da1\n",
    "    d_z1 = d_a1 * d_sigmoid(a1) # dL/dz1\n",
    "    d_W1 = X.T @ d_z1 # dL/dW1\n",
    "    d_b1 = np.sum(d_z1, axis=0, keepdims=True)\n",
    "\n",
    "    # Gradient descent update\n",
    "    W1 -= lr * d_W1\n",
    "    b1 -= lr * d_b1\n",
    "    W2 -= lr * d_W2\n",
    "    b2 -= lr * d_b2\n",
    "\n",
    "    if epoch % 1000 == 0:\n",
    "        print(f\"Epoch {epoch}, Loss: {loss:.4f}\")\n",
    "\n",
    "# Final predictions\n",
    "print(\"Predictions:\", np.round(a2, 3))"
   ]
  },
  {
   "cell_type": "code",
   "execution_count": null,
   "id": "718a9ce6",
   "metadata": {},
   "outputs": [],
   "source": []
  }
 ],
 "metadata": {
  "kernelspec": {
   "display_name": "my-env",
   "language": "python",
   "name": "python3"
  },
  "language_info": {
   "codemirror_mode": {
    "name": "ipython",
    "version": 3
   },
   "file_extension": ".py",
   "mimetype": "text/x-python",
   "name": "python",
   "nbconvert_exporter": "python",
   "pygments_lexer": "ipython3",
   "version": "3.11.9"
  }
 },
 "nbformat": 4,
 "nbformat_minor": 5
}
