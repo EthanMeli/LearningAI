{
 "cells": [
  {
   "cell_type": "code",
   "execution_count": 1,
   "id": "9469cd15",
   "metadata": {},
   "outputs": [],
   "source": [
    "import numpy as np"
   ]
  },
  {
   "cell_type": "markdown",
   "id": "f956fa5d",
   "metadata": {},
   "source": [
    "Below is a simple implementation of a neural network with 2 layers"
   ]
  },
  {
   "cell_type": "code",
   "execution_count": 2,
   "id": "308d9da5",
   "metadata": {},
   "outputs": [
    {
     "name": "stdout",
     "output_type": "stream",
     "text": [
      "Output: [[4.54513377 3.68595009]]\n"
     ]
    }
   ],
   "source": [
    "def relu(z):\n",
    "    return np.maximum(0, z)\n",
    "\n",
    "# ----- Define our network -----\n",
    "# Layer 1: 3 inputs → 4 neurons\n",
    "W1 = np.random.randn(3, 4)\n",
    "b1 = np.random.randn(4)\n",
    "\n",
    "# Layer 2: 4 inputs → 2 neurons\n",
    "W2 = np.random.randn(4, 2)\n",
    "b2 = np.random.randn(2)\n",
    "\n",
    "# Input vector (1 sample, 3 features)\n",
    "x = np.array([[0.5, 0.8, 0.2]])  # shape (1, 3)\n",
    "\n",
    "# ----- Forward pass -----\n",
    "# Layer 1\n",
    "z1 = x @ W1 + b1   # (1,4)\n",
    "a1 = relu(z1)\n",
    "\n",
    "# Layer 2\n",
    "z2 = a1 @ W2 + b2  # (1,2)\n",
    "a2 = relu(z2)\n",
    "\n",
    "print(\"Output:\", a2)\n"
   ]
  },
  {
   "cell_type": "markdown",
   "id": "936f6c65",
   "metadata": {},
   "source": [
    "What’s happening here:\n",
    "\n",
    "    @ is matrix multiplication in NumPy\n",
    "\n",
    "    First layer transforms the 3 inputs into 4 outputs\n",
    "\n",
    "    Second layer transforms the 4 outputs into 2 outputs\n",
    "\n",
    "    Activations (ReLU here) are applied between layers"
   ]
  },
  {
   "cell_type": "markdown",
   "id": "13929577",
   "metadata": {},
   "source": [
    "PRACTICE:\n",
    "Change network to have 3 layers: 3-->5-->4-->2\n",
    "Sigmoid on final layer"
   ]
  },
  {
   "cell_type": "code",
   "execution_count": 8,
   "id": "4cf125bf",
   "metadata": {},
   "outputs": [
    {
     "name": "stdout",
     "output_type": "stream",
     "text": [
      "Output: [[0.57706741 0.69338219]]\n"
     ]
    }
   ],
   "source": [
    "def sigmoid(x):\n",
    "  return 1 / (1 + np.exp(-x))\n",
    "\n",
    "# ----- Define our network -----\n",
    "# Layer 1: 3 inputs → 5 neurons\n",
    "W1 = np.random.randn(3, 5)\n",
    "b1 = np.random.randn(5)\n",
    "\n",
    "# Layer 2: 5 inputs → 4 neurons\n",
    "W2 = np.random.randn(5, 4)\n",
    "b2 = np.random.randn(4)\n",
    "\n",
    "# Layer 3: 4 inputs → 2 neurons\n",
    "W3 = np.random.randn(4, 2)\n",
    "b3 = np.random.randn(2)\n",
    "\n",
    "# Input vector (1 sample, 3 features)\n",
    "x = np.array([[0.2, 0.7, 0.6]])  # shape (1, 3)\n",
    "x2 = np.array([[0.5, 0.2, 0.4]])\n",
    "\n",
    "# b1 = 0\n",
    "# b2 = 0\n",
    "# b3 = 0\n",
    "\n",
    "# ----- Forward pass -----\n",
    "# Layer 1\n",
    "z1 = x * x2 @ W1 + b1\n",
    "a1 = relu(z1)\n",
    "\n",
    "# Layer 2\n",
    "z2 = a1 @ W2 + b2  # (1,2)\n",
    "a2 = relu(z2)\n",
    "\n",
    "# Layer 3\n",
    "z3 = a2 @ W3 + b3\n",
    "a3 = sigmoid(z3)\n",
    "\n",
    "print(\"Output:\", a3)\n"
   ]
  },
  {
   "cell_type": "code",
   "execution_count": null,
   "id": "97085861",
   "metadata": {},
   "outputs": [],
   "source": []
  }
 ],
 "metadata": {
  "kernelspec": {
   "display_name": "my-env",
   "language": "python",
   "name": "python3"
  },
  "language_info": {
   "codemirror_mode": {
    "name": "ipython",
    "version": 3
   },
   "file_extension": ".py",
   "mimetype": "text/x-python",
   "name": "python",
   "nbconvert_exporter": "python",
   "pygments_lexer": "ipython3",
   "version": "3.11.9"
  }
 },
 "nbformat": 4,
 "nbformat_minor": 5
}
