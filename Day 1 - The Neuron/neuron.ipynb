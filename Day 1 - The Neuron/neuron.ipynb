{
 "cells": [
  {
   "cell_type": "code",
   "execution_count": 1,
   "id": "0a202d70",
   "metadata": {},
   "outputs": [],
   "source": [
    "import numpy as np"
   ]
  },
  {
   "cell_type": "markdown",
   "id": "d56ca7dc",
   "metadata": {},
   "source": [
    "Below is a simple neuron implementation using sigmoid as the activation function.\n"
   ]
  },
  {
   "cell_type": "code",
   "execution_count": 13,
   "id": "1c823332",
   "metadata": {},
   "outputs": [
    {
     "name": "stdout",
     "output_type": "stream",
     "text": [
      "Weighted sum (z): 0.7799999999999999\n",
      "Neuron output (y): 0.6856801139382539\n"
     ]
    }
   ],
   "source": [
    "def sigmoid(z):\n",
    "    return 1 / (1 + np.exp(-z))\n",
    "\n",
    "# Inputs (features)\n",
    "x = np.array([0.3, 0.7, 0.5])\n",
    "\n",
    "# Weights (learned during training)\n",
    "w = np.array([0.2, 0.6, 0.4])\n",
    "\n",
    "# Bias\n",
    "b = 0.1\n",
    "\n",
    "# Step 1: Weighted sum\n",
    "z = np.dot(w, x) + b  # same as w1*x1 + w2*x2 + w3*x3 + b\n",
    "\n",
    "# Step 2: Activation\n",
    "y = sigmoid(z)\n",
    "\n",
    "print(\"Weighted sum (z):\", z)\n",
    "print(\"Neuron output (y):\", y)\n"
   ]
  },
  {
   "cell_type": "markdown",
   "id": "b3f35b7b",
   "metadata": {},
   "source": [
    "Below we implement ReLU activation functions with additional parameters"
   ]
  },
  {
   "cell_type": "code",
   "execution_count": 11,
   "id": "48d4ce4a",
   "metadata": {},
   "outputs": [
    {
     "name": "stdout",
     "output_type": "stream",
     "text": [
      "Weighted sum (z): 0.03150000000000003\n",
      "Neuron output (y): 0.03150000000000003\n"
     ]
    }
   ],
   "source": [
    "def ReLU(z):\n",
    "  return np.maximum(0, z)\n",
    "\n",
    "# inputs\n",
    "x = np.array([-0.2, 0.4, 0.6, -0.3, 0.15])\n",
    "\n",
    "# weights\n",
    "w = np.array([0.55, 0.34, -0.65, 0.23, 0.43])\n",
    "\n",
    "# Bias\n",
    "b = 0.4\n",
    "\n",
    "# Weighted Sum\n",
    "z = np.dot(w, x) + b\n",
    "\n",
    "# Activation\n",
    "y = ReLU(z)\n",
    "\n",
    "print(\"Weighted sum (z):\", z)\n",
    "print(\"Neuron output (y):\", y)"
   ]
  },
  {
   "cell_type": "markdown",
   "id": "5e1999b9",
   "metadata": {},
   "source": [
    "We now implement a function that allows users to choose the activation method and input the weight and input array, as well as bias"
   ]
  },
  {
   "cell_type": "code",
   "execution_count": 7,
   "id": "00608772",
   "metadata": {},
   "outputs": [],
   "source": [
    "def neuron(x, w, b, activation):\n",
    "  z = np.dot(x, w) + b\n",
    "  \n",
    "  y = activation(z)\n",
    "\n",
    "  print(\"Weighted sum (z):\", z)\n",
    "  print(\"Neuron output (y):\", y)"
   ]
  },
  {
   "cell_type": "code",
   "execution_count": 8,
   "id": "78e2f875",
   "metadata": {},
   "outputs": [
    {
     "name": "stdout",
     "output_type": "stream",
     "text": [
      "Weighted sum (z): 0.03150000000000003\n",
      "Neuron output (y): 0.03150000000000003\n",
      "Weighted sum (z): 0.03150000000000003\n",
      "Neuron output (y): 0.5078743489005428\n"
     ]
    }
   ],
   "source": [
    "neuron(x, w, b, ReLU)\n",
    "neuron(x, w, b, sigmoid)"
   ]
  },
  {
   "cell_type": "code",
   "execution_count": 9,
   "id": "ad198ae1",
   "metadata": {},
   "outputs": [],
   "source": [
    "def TanH(z):\n",
    "  return (np.exp(z) - np.exp(-z)) / (np.exp(z) + np.exp(-z))"
   ]
  },
  {
   "cell_type": "code",
   "execution_count": 10,
   "id": "e50791ce",
   "metadata": {},
   "outputs": [
    {
     "name": "stdout",
     "output_type": "stream",
     "text": [
      "Weighted sum (z): 0.03150000000000003\n",
      "Neuron output (y): 0.031489585508492124\n"
     ]
    }
   ],
   "source": [
    "neuron(x, w, b, TanH)"
   ]
  },
  {
   "cell_type": "code",
   "execution_count": null,
   "id": "3e3638f6",
   "metadata": {},
   "outputs": [],
   "source": []
  }
 ],
 "metadata": {
  "kernelspec": {
   "display_name": "my-env",
   "language": "python",
   "name": "python3"
  },
  "language_info": {
   "codemirror_mode": {
    "name": "ipython",
    "version": 3
   },
   "file_extension": ".py",
   "mimetype": "text/x-python",
   "name": "python",
   "nbconvert_exporter": "python",
   "pygments_lexer": "ipython3",
   "version": "3.11.9"
  }
 },
 "nbformat": 4,
 "nbformat_minor": 5
}
